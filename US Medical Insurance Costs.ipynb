{
 "cells": [
  {
   "cell_type": "markdown",
   "metadata": {},
   "source": [
    "# U.S. Medical Insurance Costs"
   ]
  },
  {
   "cell_type": "markdown",
   "metadata": {},
   "source": [
    "# Import Modules"
   ]
  },
  {
   "cell_type": "code",
   "execution_count": 1,
   "metadata": {},
   "outputs": [],
   "source": [
    "import pandas as pd\n",
    "import numpy as np\n",
    "import csv\n",
    "import matplotlib.pyplot as plt\n",
    "from matplotlib import pyplot as plt"
   ]
  },
  {
   "cell_type": "markdown",
   "metadata": {},
   "source": [
    "# Import Data and basic visualization of column headers "
   ]
  },
  {
   "cell_type": "code",
   "execution_count": 5,
   "metadata": {},
   "outputs": [
    {
     "name": "stdout",
     "output_type": "stream",
     "text": [
      "   patient_id  age     sex     bmi  children smoker     region      charges\n",
      "0           0   19  female  27.900         0    yes  southwest  16884.92400\n",
      "1           1   18    male  33.770         1     no  southeast   1725.55230\n",
      "2           2   28    male  33.000         3     no  southeast   4449.46200\n",
      "3           3   33    male  22.705         0     no  northwest  21984.47061\n",
      "4           4   32    male  28.880         0     no  northwest   3866.85520\n"
     ]
    }
   ],
   "source": [
    "df = pd.read_csv('insurance.csv')\n",
    "print(df.head(5))"
   ]
  },
  {
   "cell_type": "markdown",
   "metadata": {},
   "source": [
    "# Description of the dataset as an overview to refer to and validate against"
   ]
  },
  {
   "cell_type": "code",
   "execution_count": 6,
   "metadata": {},
   "outputs": [
    {
     "data": {
      "text/html": [
       "<div>\n",
       "<style scoped>\n",
       "    .dataframe tbody tr th:only-of-type {\n",
       "        vertical-align: middle;\n",
       "    }\n",
       "\n",
       "    .dataframe tbody tr th {\n",
       "        vertical-align: top;\n",
       "    }\n",
       "\n",
       "    .dataframe thead th {\n",
       "        text-align: right;\n",
       "    }\n",
       "</style>\n",
       "<table border=\"1\" class=\"dataframe\">\n",
       "  <thead>\n",
       "    <tr style=\"text-align: right;\">\n",
       "      <th></th>\n",
       "      <th>patient_id</th>\n",
       "      <th>age</th>\n",
       "      <th>bmi</th>\n",
       "      <th>children</th>\n",
       "      <th>charges</th>\n",
       "    </tr>\n",
       "  </thead>\n",
       "  <tbody>\n",
       "    <tr>\n",
       "      <th>count</th>\n",
       "      <td>1338.00</td>\n",
       "      <td>1338.00</td>\n",
       "      <td>1338.00</td>\n",
       "      <td>1338.00</td>\n",
       "      <td>1338.00</td>\n",
       "    </tr>\n",
       "    <tr>\n",
       "      <th>mean</th>\n",
       "      <td>668.50</td>\n",
       "      <td>39.21</td>\n",
       "      <td>30.66</td>\n",
       "      <td>1.09</td>\n",
       "      <td>13270.42</td>\n",
       "    </tr>\n",
       "    <tr>\n",
       "      <th>std</th>\n",
       "      <td>386.39</td>\n",
       "      <td>14.05</td>\n",
       "      <td>6.10</td>\n",
       "      <td>1.21</td>\n",
       "      <td>12110.01</td>\n",
       "    </tr>\n",
       "    <tr>\n",
       "      <th>min</th>\n",
       "      <td>0.00</td>\n",
       "      <td>18.00</td>\n",
       "      <td>15.96</td>\n",
       "      <td>0.00</td>\n",
       "      <td>1121.87</td>\n",
       "    </tr>\n",
       "    <tr>\n",
       "      <th>25%</th>\n",
       "      <td>334.25</td>\n",
       "      <td>27.00</td>\n",
       "      <td>26.30</td>\n",
       "      <td>0.00</td>\n",
       "      <td>4740.29</td>\n",
       "    </tr>\n",
       "    <tr>\n",
       "      <th>50%</th>\n",
       "      <td>668.50</td>\n",
       "      <td>39.00</td>\n",
       "      <td>30.40</td>\n",
       "      <td>1.00</td>\n",
       "      <td>9382.03</td>\n",
       "    </tr>\n",
       "    <tr>\n",
       "      <th>75%</th>\n",
       "      <td>1002.75</td>\n",
       "      <td>51.00</td>\n",
       "      <td>34.69</td>\n",
       "      <td>2.00</td>\n",
       "      <td>16639.91</td>\n",
       "    </tr>\n",
       "    <tr>\n",
       "      <th>max</th>\n",
       "      <td>1337.00</td>\n",
       "      <td>64.00</td>\n",
       "      <td>53.13</td>\n",
       "      <td>5.00</td>\n",
       "      <td>63770.43</td>\n",
       "    </tr>\n",
       "  </tbody>\n",
       "</table>\n",
       "</div>"
      ],
      "text/plain": [
       "       patient_id      age      bmi  children   charges\n",
       "count     1338.00  1338.00  1338.00   1338.00   1338.00\n",
       "mean       668.50    39.21    30.66      1.09  13270.42\n",
       "std        386.39    14.05     6.10      1.21  12110.01\n",
       "min          0.00    18.00    15.96      0.00   1121.87\n",
       "25%        334.25    27.00    26.30      0.00   4740.29\n",
       "50%        668.50    39.00    30.40      1.00   9382.03\n",
       "75%       1002.75    51.00    34.69      2.00  16639.91\n",
       "max       1337.00    64.00    53.13      5.00  63770.43"
      ]
     },
     "execution_count": 6,
     "metadata": {},
     "output_type": "execute_result"
    }
   ],
   "source": [
    "df.describe().round(2)"
   ]
  },
  {
   "cell_type": "markdown",
   "metadata": {},
   "source": [
    "# Add new column (patient_id) to .csv file using pandas"
   ]
  },
  {
   "cell_type": "code",
   "execution_count": null,
   "metadata": {},
   "outputs": [],
   "source": [
    "df['patient_id'] = range(0, 0 + len(df))\n",
    "df.to_csv('insurance.csv', index=False)\n",
    "\n",
    "#check to see output of adding new column\n",
    "print(df.head(5))"
   ]
  },
  {
   "cell_type": "markdown",
   "metadata": {},
   "source": [
    "# Populating the lists with the data from the .csv file"
   ]
  },
  {
   "cell_type": "code",
   "execution_count": 7,
   "metadata": {},
   "outputs": [],
   "source": [
    "insurance_records = []\n",
    "with open('insurance.csv') as insurance_csv:\n",
    "    insurance_reader = csv.DictReader(insurance_csv)\n",
    "    for i in insurance_reader:\n",
    "        insurance_records.append(i)\n",
    "#print(insurance_records)"
   ]
  },
  {
   "cell_type": "markdown",
   "metadata": {},
   "source": [
    "# Anlysis of the average age "
   ]
  },
  {
   "cell_type": "code",
   "execution_count": 8,
   "metadata": {},
   "outputs": [
    {
     "name": "stdout",
     "output_type": "stream",
     "text": [
      "The average age of our 1338 sample data is 39 years old.\n"
     ]
    }
   ],
   "source": [
    "avg_age = round(df['age'].mean())\n",
    "print(\"The average age of our 1338 sample data is \" + str(avg_age) + ' years old.')"
   ]
  },
  {
   "cell_type": "markdown",
   "metadata": {},
   "source": [
    "# Analysis of the average age of male vs female"
   ]
  },
  {
   "cell_type": "code",
   "execution_count": 9,
   "metadata": {},
   "outputs": [
    {
     "name": "stdout",
     "output_type": "stream",
     "text": [
      "There are 676 patients who are males in the insurance records\n"
     ]
    }
   ],
   "source": [
    "age_male = 0\n",
    "num_male = 0\n",
    "age_female = 0\n",
    "num_female = 0\n",
    "for record in insurance_records:\n",
    "    if record['sex'] == 'male':\n",
    "        num_male += 1\n",
    "        age_male += float(record['age'])\n",
    "print(f'There are {num_male} patients who are males in the insurance records')"
   ]
  },
  {
   "cell_type": "code",
   "execution_count": 10,
   "metadata": {},
   "outputs": [
    {
     "name": "stdout",
     "output_type": "stream",
     "text": [
      "There are 662 patient how are females in the insurance records\n"
     ]
    }
   ],
   "source": [
    "for record in insurance_records:\n",
    "    if record['sex'] == 'female':\n",
    "        num_female += 1\n",
    "        age_female += float(record['age'])\n",
    "print(f'There are {num_female} patient how are females in the insurance records')"
   ]
  },
  {
   "cell_type": "code",
   "execution_count": 11,
   "metadata": {},
   "outputs": [
    {
     "name": "stdout",
     "output_type": "stream",
     "text": [
      "There are 1338 medical insurance patient records\n"
     ]
    }
   ],
   "source": [
    "total_num = num_male + num_female\n",
    "print(f'There are {total_num} medical insurance patient records') "
   ]
  },
  {
   "cell_type": "code",
   "execution_count": 12,
   "metadata": {},
   "outputs": [
    {
     "name": "stdout",
     "output_type": "stream",
     "text": [
      "There are 1338 data samples in our analysis.\n",
      "The average age for male is 39 years old.\n",
      "The average age for female is 40 years old.\n"
     ]
    }
   ],
   "source": [
    "avg_male_age = round(age_male/num_male, )\n",
    "avg_female_age = round(age_female/num_female,)\n",
    "total_num = round(num_male + num_female,)\n",
    "print(\"There are \" + str(total_num) + \" data samples in our analysis.\")\n",
    "print(\"The average age for male is \" + str(avg_male_age) + ' years old.')\n",
    "print(\"The average age for female is \" + str(avg_female_age) + ' years old.')"
   ]
  },
  {
   "cell_type": "markdown",
   "metadata": {},
   "source": [
    "# Visualization of distribution of sexes Males vs Female Patients"
   ]
  },
  {
   "cell_type": "code",
   "execution_count": 13,
   "metadata": {},
   "outputs": [
    {
     "name": "stdout",
     "output_type": "stream",
     "text": [
      "sex\n",
      "female    662\n",
      "male      676\n",
      "dtype: int64\n"
     ]
    },
    {
     "data": {
      "image/png": "[encoded data removed]",
      "text/plain": [
       "<Figure size 432x288 with 1 Axes>"
      ]
     },
     "metadata": {},
     "output_type": "display_data"
    },
    {
     "name": "stdout",
     "output_type": "stream",
     "text": [
      "50.5 % of our 1338 insurers are male vs 49.5 % are female.\n"
     ]
    }
   ],
   "source": [
    "size_by_sex = df.groupby('sex').size()\n",
    "print(size_by_sex)\n",
    "my_labels = 'Female','Male'\n",
    "plt.pie(size_by_sex,labels = my_labels,autopct='%1.1f%%',radius=2)\n",
    "plt.title('Female vs Male Patients', y=1.5)\n",
    "plt.show()\n",
    "male_percent = round(num_male * 100/(num_male + num_female),1)\n",
    "female_percent = 100 - male_percent\n",
    "print(str(male_percent) + \" % of our 1338 insurers are male vs \" + str(female_percent) + \" % are female.\")"
   ]
  },
  {
   "cell_type": "markdown",
   "metadata": {},
   "source": [
    "# Analysis of where the majority of patients are from (Region)"
   ]
  },
  {
   "cell_type": "code",
   "execution_count": 14,
   "metadata": {},
   "outputs": [
    {
     "name": "stdout",
     "output_type": "stream",
     "text": [
      "region\n",
      "northeast    324\n",
      "northwest    325\n",
      "southeast    364\n",
      "southwest    325\n",
      "dtype: int64\n"
     ]
    }
   ],
   "source": [
    "for records in insurance_records:\n",
    "    records = df.groupby(['region']).size()\n",
    "    \n",
    "print(records)\n"
   ]
  },
  {
   "cell_type": "markdown",
   "metadata": {},
   "source": [
    "# Visualization of distribution of patients based on region within US"
   ]
  },
  {
   "cell_type": "code",
   "execution_count": 15,
   "metadata": {},
   "outputs": [
    {
     "name": "stdout",
     "output_type": "stream",
     "text": [
      "region\n",
      "northeast    324\n",
      "northwest    325\n",
      "southeast    364\n",
      "southwest    325\n",
      "dtype: int64\n"
     ]
    },
    {
     "data": {
      "image/png": "[encoded data removed]",
      "text/plain": [
       "<Figure size 432x288 with 1 Axes>"
      ]
     },
     "metadata": {},
     "output_type": "display_data"
    },
    {
     "name": "stdout",
     "output_type": "stream",
     "text": [
      "The distirbution of the number of patients across the different regions of the US is similar with South East being the highest\n"
     ]
    }
   ],
   "source": [
    "count_region = df.groupby('region').size()\n",
    "print(count_region)\n",
    "my_labels = ['North East','North West', 'South East', 'South West']\n",
    "plt.pie(count_region,labels = my_labels, autopct='%1.1f%%', radius=2)\n",
    "plt.title('Percentage of patients based on region', y=1.5)\n",
    "plt.show()\n",
    "print('The distirbution of the number of patients across the different regions of the US is similar with South East being the highest')"
   ]
  },
  {
   "cell_type": "markdown",
   "metadata": {},
   "source": [
    "# Analysis of cost (charges) between smokers and non smokers"
   ]
  },
  {
   "cell_type": "code",
   "execution_count": 16,
   "metadata": {},
   "outputs": [],
   "source": [
    "num_smoker = 0\n",
    "smoker_charges = 0\n",
    "num_non_smoker = 0\n",
    "non_smoker_charges = 0"
   ]
  },
  {
   "cell_type": "code",
   "execution_count": 17,
   "metadata": {},
   "outputs": [
    {
     "name": "stdout",
     "output_type": "stream",
     "text": [
      "The number of \"SMOKERS\" from the insurance records is 274 and on average the cost of medical insurance costs $32050.23\n",
      "The number of \"NON-SMOKERS\" from the insurance records is 1064 and on average the cost of medical insurance costs $8434.27\n",
      "The insurance cost for a smoker is $23615.96 more expensive than for a non_smoker\n"
     ]
    }
   ],
   "source": [
    "for record in insurance_records:\n",
    "    if record['smoker'] == 'yes':\n",
    "        num_smoker += 1\n",
    "        smoker_charges += float(record['charges'])\n",
    "    if record['smoker'] == 'no':\n",
    "        num_non_smoker += 1\n",
    "        non_smoker_charges += float(record['charges'])\n",
    "        \n",
    "avg_smoker_charges = round(smoker_charges/ num_smoker, 2)\n",
    "avg_non_smoker_charges = round(non_smoker_charges/ num_non_smoker, 2)\n",
    "diff_smoker_charges = avg_smoker_charges - avg_non_smoker_charges\n",
    "smoke_percent = round(num_smoker*100 / total_num, 1)\n",
    "\n",
    "non_smoke_percent = round(num_non_smoker*100/ total_num, 1)    \n",
    "print(f'The number of \"SMOKERS\" from the insurance records is {num_smoker} and on average the cost of medical insurance costs ${avg_smoker_charges}')\n",
    "print(f'The number of \"NON-SMOKERS\" from the insurance records is {num_non_smoker} and on average the cost of medical insurance costs ${avg_non_smoker_charges}')\n",
    "print(f'The insurance cost for a smoker is ${diff_smoker_charges} more expensive than for a non_smoker')\n",
    "\n"
   ]
  },
  {
   "cell_type": "markdown",
   "metadata": {},
   "source": [
    "# Visualization of distribution of patients based on Smokers vs Non-Smokers"
   ]
  },
  {
   "cell_type": "code",
   "execution_count": 18,
   "metadata": {},
   "outputs": [
    {
     "name": "stdout",
     "output_type": "stream",
     "text": [
      "smoker\n",
      "no     1064\n",
      "yes     274\n",
      "dtype: int64\n"
     ]
    },
    {
     "data": {
      "image/png": "[encoded data removed]",
      "text/plain": [
       "<Figure size 432x288 with 1 Axes>"
      ]
     },
     "metadata": {},
     "output_type": "display_data"
    },
    {
     "name": "stdout",
     "output_type": "stream",
     "text": [
      "Out of the 1338 patients, 20.5% smoke and 79.5% do not\n"
     ]
    }
   ],
   "source": [
    "count_smokers = df.groupby('smoker').size()\n",
    "print(count_smokers)\n",
    "my_labels = ['Smokers','Non-Smokers']\n",
    "plt.pie(count_smokers,labels = my_labels, autopct='%1.1f%%', radius=2)\n",
    "plt.title('Percentage of patients Smokers vs Non-Smokers', y=1.5)\n",
    "plt.show()\n",
    "print(f'Out of the {total_num} patients, {smoke_percent}% smoke and {non_smoke_percent}% do not')"
   ]
  },
  {
   "cell_type": "markdown",
   "metadata": {},
   "source": [
    "# Analysis of average BMI of patients based on gender"
   ]
  },
  {
   "cell_type": "code",
   "execution_count": 19,
   "metadata": {},
   "outputs": [
    {
     "name": "stdout",
     "output_type": "stream",
     "text": [
      "Average BMI for male is 30.94.\n",
      "Average BMI for female is 30.38.\n"
     ]
    }
   ],
   "source": [
    "bmi_male = 0\n",
    "bmi_female = 0\n",
    "for record in insurance_records:\n",
    "    if record['sex'] == 'male':\n",
    "        bmi_male += float(record['bmi'])\n",
    "    if record['sex'] == 'female':\n",
    "        bmi_female += float(record['bmi'])\n",
    "       \n",
    "avg_bmi_male = round(bmi_male/num_male, 2)    \n",
    "avg_bmi_female = round(bmi_female/num_female, 2)\n",
    "print('Average BMI for male is ' + str(avg_bmi_male) + \".\")\n",
    "print('Average BMI for female is ' + str(avg_bmi_female) + \".\")"
   ]
  },
  {
   "cell_type": "code",
   "execution_count": 20,
   "metadata": {},
   "outputs": [
    {
     "name": "stdout",
     "output_type": "stream",
     "text": [
      "0\n",
      "Underweight     21\n",
      "Normal         226\n",
      "Overweight     386\n",
      "Obese          705\n",
      "Name: 0, dtype: int64\n",
      "             charges\n",
      "bmi                 \n",
      "Underweight   8658.0\n",
      "Normal       10435.0\n",
      "Overweight   10998.0\n",
      "Obese        15561.0\n"
     ]
    },
    {
     "name": "stderr",
     "output_type": "stream",
     "text": [
      "C:\\Users\\Gebruiker\\anaconda3\\lib\\site-packages\\ipykernel_launcher.py:8: SettingWithCopyWarning: \n",
      "A value is trying to be set on a copy of a slice from a DataFrame.\n",
      "Try using .loc[row_indexer,col_indexer] = value instead\n",
      "\n",
      "See the caveats in the documentation: https://pandas.pydata.org/pandas-docs/stable/user_guide/indexing.html#returning-a-view-versus-a-copy\n",
      "  \n"
     ]
    }
   ],
   "source": [
    "labels_bmi_group = ['Underweight','Normal','Overweight','Obese']\n",
    "bins_bmi_group = [0, 18.5, 25, 30, 100]\n",
    "bmi_groups = pd.cut(df['bmi'], bins=bins_bmi_group, labels=labels_bmi_group)\n",
    "bmi_groups_size = bmi_groups.to_frame(0).groupby(0)[0].size()\n",
    "print(bmi_groups_size)\n",
    "\n",
    "df_bmi_charges = df[['bmi','charges']]\n",
    "df_bmi_charges['bmi'] = pd.cut(df['bmi'], bins=bins_bmi_group, labels=labels_bmi_group)\n",
    "\n",
    "print(df_bmi_charges.groupby('bmi').mean().round())"
   ]
  },
  {
   "cell_type": "markdown",
   "metadata": {},
   "source": [
    "# Visualization of Insured by BMI"
   ]
  },
  {
   "cell_type": "code",
   "execution_count": 21,
   "metadata": {},
   "outputs": [
    {
     "data": {
      "image/png": "[encoded data removed]",
      "text/plain": [
       "<Figure size 432x288 with 1 Axes>"
      ]
     },
     "metadata": {},
     "output_type": "display_data"
    }
   ],
   "source": [
    "plt.pie(bmi_groups_size,labels = labels_bmi_group,autopct='%1.1f%%',radius=2.5)\n",
    "plt.title('Insured by BMI', y=1.5)\n",
    "plt.show()"
   ]
  },
  {
   "cell_type": "code",
   "execution_count": null,
   "metadata": {},
   "outputs": [],
   "source": []
  },
  {
   "cell_type": "code",
   "execution_count": null,
   "metadata": {},
   "outputs": [],
   "source": []
  },
  {
   "cell_type": "code",
   "execution_count": null,
   "metadata": {},
   "outputs": [],
   "source": []
  }
 ],
 "metadata": {
  "kernelspec": {
   "display_name": "Python 3",
   "language": "python",
   "name": "python3"
  },
  "language_info": {
   "codemirror_mode": {
    "name": "ipython",
    "version": 3
   },
   "file_extension": ".py",
   "mimetype": "text/x-python",
   "name": "python",
   "nbconvert_exporter": "python",
   "pygments_lexer": "ipython3",
   "version": "3.7.6"
  }
 },
 "nbformat": 4,
 "nbformat_minor": 4
}
